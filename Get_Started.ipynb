{
  "nbformat": 4,
  "nbformat_minor": 0,
  "metadata": {
    "colab": {
      "provenance": [],
      "authorship_tag": "ABX9TyM/GXPCkhspR+ddce2+Z+d8",
      "include_colab_link": true
    },
    "kernelspec": {
      "name": "python3",
      "display_name": "Python 3"
    },
    "language_info": {
      "name": "python"
    }
  },
  "cells": [
    {
      "cell_type": "markdown",
      "metadata": {
        "id": "view-in-github",
        "colab_type": "text"
      },
      "source": [
        "<a href=\"https://colab.research.google.com/github/mittalanvi/Projects_series/blob/main/Get_Started.ipynb\" target=\"_parent\"><img src=\"https://colab.research.google.com/assets/colab-badge.svg\" alt=\"Open In Colab\"/></a>"
      ]
    },
    {
      "cell_type": "code",
      "execution_count": 4,
      "metadata": {
        "id": "hFJ7ZZiWvedy"
      },
      "outputs": [],
      "source": [
        "import pandas as pd\n",
        "\n"
      ]
    },
    {
      "cell_type": "code",
      "source": [
        "n1 = input(\"enter the first numbers you want to add \" ,  )\n",
        "print(type(n1))\n",
        "n1 =int(n1)\n",
        "n2 = input(\"enter the  second number you want to add \" ,  )\n",
        "print(type(n2))\n",
        "n2 =int(n2)\n",
        "print((n1+n2)/2)\n",
        "print(\"the square of n1 is \", n1*n1)\n",
        "print(\"the square of n2 is \", n2*n2)\n"
      ],
      "metadata": {
        "id": "DRPkXB2awhkJ"
      },
      "execution_count": null,
      "outputs": []
    },
    {
      "cell_type": "code",
      "source": [
        "n = input(\"enter the  number you want to find remainder of \" ,  )\n",
        "n=int(n)\n",
        "print(n%2)\n"
      ],
      "metadata": {
        "id": "Av76wFZcxs6W"
      },
      "execution_count": null,
      "outputs": []
    },
    {
      "cell_type": "code",
      "source": [
        "a=int(input(\"Enter the number: \", ))\n",
        "b=int(input(\"Enter the number: \", ))\n",
        "if(a>b):\n",
        "  print(a ,\" is greater than\", b)\n",
        "else:\n",
        "    print(b ,\" is greater than\",a)\n",
        "\n"
      ],
      "metadata": {
        "id": "_--reeU9yA7H"
      },
      "execution_count": null,
      "outputs": []
    },
    {
      "cell_type": "code",
      "source": [
        "a= input(\"Enter your name \" , )\n",
        "print(\"Good Afternoon \", + a)\n"
      ],
      "metadata": {
        "id": "j8Qf58UAruuW"
      },
      "execution_count": null,
      "outputs": []
    },
    {
      "cell_type": "code",
      "source": [
        "b= input(\"Enter your name \" , )\n",
        "c= input(\"Enter date \" , )\n",
        "letter = ''' Dear <b>,\n",
        "   You are Selected!\n",
        "   <c>'''\n",
        "letter=letter.replace(\"<b>\",b)\n",
        "letter= letter.replace(\"<c>\",c)\n",
        "print(letter)"
      ],
      "metadata": {
        "id": "stXCOGBlskr-"
      },
      "execution_count": null,
      "outputs": []
    },
    {
      "cell_type": "code",
      "source": [
        "v= input(\"Enter \", )\n",
        "print(v.find(\"  \"))\n",
        "v=v.replace(\"  \", \" Extra spaces \")\n",
        "print(v)"
      ],
      "metadata": {
        "id": "7ZIDaHN8wlFK"
      },
      "execution_count": null,
      "outputs": []
    },
    {
      "cell_type": "code",
      "source": [
        "lette= \"dear harry, \\n This Python course is ok\\t only not that nice\"\n",
        "print(lette)\n"
      ],
      "metadata": {
        "id": "_Ml3sfoXyEPa"
      },
      "execution_count": null,
      "outputs": []
    },
    {
      "cell_type": "code",
      "source": [
        "c=input(\"Enter the name 1 fruit \", )\n",
        "e=input(\"Enter the name 1 fruit \", )\n",
        "f=input(\"Enter the name 1 fruit \", )\n",
        "g=input(\"Enter the name 1 fruit \", )\n",
        "h=input(\"Enter the name 1 fruit \", )\n",
        "i=input(\"Enter the name 1 fruit \", )\n",
        "j=input(\"Enter the name 1 fruit \", )\n",
        "a=[c,e,f,g,h,i,j]\n",
        "print(a)wf"
      ],
      "metadata": {
        "id": "9bAd5fxiFn9N"
      },
      "execution_count": null,
      "outputs": []
    },
    {
      "cell_type": "code",
      "source": [
        "c=int(input(\"Enter the Marks  1 student \", ))\n",
        "e=int(input(\"Enter the marks 2 fruit \", ))\n",
        "f=int(input(\"Enter the marks 3 fruit \", ))\n",
        "g=int(input(\"Enter the marks 4 fruit \", ))\n",
        "h=int(input(\"Enter the marks 5 fruit \", ))\n",
        "a=[c,e,f,g,h]\n",
        "a.sort()\n",
        "print(a)1"
      ],
      "metadata": {
        "id": "tFPJc0jjJOu_"
      },
      "execution_count": null,
      "outputs": []
    },
    {
      "cell_type": "code",
      "source": [
        "x=(1,2,3,4)\n",
        "x[1]=58\n"
      ],
      "metadata": {
        "id": "fbn38m_SLjka"
      },
      "execution_count": null,
      "outputs": []
    },
    {
      "cell_type": "code",
      "source": [
        "c=int(input(\"Enter the Marks  1 student \", ))\n",
        "e=int(input(\"Enter the marks 2 fruit \", ))\n",
        "f=int(input(\"Enter the marks 3 fruit \", ))\n",
        "g=int(input(\"Enter the marks 4 fruit \", ))\n",
        "a=[c,e,f,g]\n",
        "print(\"sum\", a[0]+a[1]+a[2]+a[3])"
      ],
      "metadata": {
        "id": "KyNj-DT4Ls6p"
      },
      "execution_count": null,
      "outputs": []
    },
    {
      "cell_type": "code",
      "source": [
        "a=(7,0,8,0,0,9)\n",
        "print(a.count(0))\n",
        "a=(7,0,8,0,0,9)\n",
        "a.count(0)"
      ],
      "metadata": {
        "id": "0T6UWUCtMFmY"
      },
      "execution_count": null,
      "outputs": []
    },
    {
      "cell_type": "code",
      "source": [
        "import pandas as pd\n",
        "import numpy as np\n",
        "import seaborn as sns\n",
        "import matplotlib.pyplot as plt\n",
        "%matplotlib inline\n"
      ],
      "metadata": {
        "id": "Y8pNHeRATf8q"
      },
      "execution_count": null,
      "outputs": []
    },
    {
      "cell_type": "code",
      "source": [],
      "metadata": {
        "id": "bEg9o1mrz6n3"
      },
      "execution_count": null,
      "outputs": []
    },
    {
      "cell_type": "code",
      "source": [
        "a = { 'Athleisure' :'Comfortable and casual footwear & clothing designed for exercise and rigorous activity' ,\n",
        "     'Broigus' : 'Angry or irritated.',\n",
        "      'By-Catch' : 'A catch of fish that cannot be put to commercial use',\n",
        "      'Blert': 'A cowardly person, someone who is weak.'\n",
        "}\n",
        "print(\"From here write :\" , a.keys())\n",
        "i = input(\"Enter \" )\n",
        "print(\"The meaning is as follows : \", a[i] )"
      ],
      "metadata": {
        "id": "FqWk3NB9T7h-"
      },
      "execution_count": null,
      "outputs": []
    },
    {
      "cell_type": "code",
      "source": [
        "a=np.arange(0,20)\n",
        "a=a.reshape(4,5)\n",
        "print(a)\n",
        "a[1:3,2:5]"
      ],
      "metadata": {
        "id": "J79O8X2IZ8SD"
      },
      "execution_count": null,
      "outputs": []
    },
    {
      "cell_type": "code",
      "source": [
        "r=np.random.randn(3,3)\n",
        "print(r)\n",
        "for i in range(len(r)) :\n",
        " for j in range(len(r)) :\n",
        "  if(r[i][j]<0.0) :\n",
        "   r[i][j]=1\n",
        "  else :\n",
        "   r[i][j]=r[i][j]\n",
        "\n",
        "print(r)\n",
        "\n",
        "\n"
      ],
      "metadata": {
        "id": "xS1U14d8kGyO"
      },
      "execution_count": null,
      "outputs": []
    },
    {
      "cell_type": "code",
      "source": [
        "r=np.arange(0,9)\n",
        "r=r.reshape(3,3)\n",
        "print(r)\n",
        "a=np.empty((3,3), int)\n",
        "\n",
        "\n",
        "for i in range(0,3) :\n",
        "  for j in range(0,3) :\n",
        "    a[j][i]=r[i][j]\n",
        "\n",
        "\n",
        "print(a)\n",
        "\n"
      ],
      "metadata": {
        "id": "5BtJFHnxI1kt"
      },
      "execution_count": null,
      "outputs": []
    },
    {
      "cell_type": "code",
      "source": [
        "r=10\n",
        "a=[0,0,0,0,0,0,0,0,0,0,0]\n",
        "\n",
        "for i in range(0,11) :\n",
        "  a[i]=int(input(\"Enetr\"))\n",
        "\n",
        "s={a[0],a[1],a[2],a[3],a[4],a[5],a[6],a[7],a[8],a[9]}\n",
        "print(s)"
      ],
      "metadata": {
        "id": "hQt5noT1lb_D"
      },
      "execution_count": null,
      "outputs": []
    },
    {
      "cell_type": "code",
      "source": [
        "a={18,\"18\"}\n",
        "print(a)\n",
        "type(a)"
      ],
      "metadata": {
        "id": "Zl19X0rmUg-K"
      },
      "execution_count": null,
      "outputs": []
    },
    {
      "cell_type": "code",
      "source": [
        "s={0}\n",
        "s.add(20)\n",
        "s.add(12)\n",
        "s.add(\"12\")\n",
        "print(len(s))\n",
        "type(s)\n",
        "s[0]=2\n"
      ],
      "metadata": {
        "id": "2VFfK63NaSko"
      },
      "execution_count": null,
      "outputs": []
    },
    {
      "cell_type": "code",
      "source": [
        "a=['we',\"m\",\"r\",\"t\",\"y\"]\n",
        "\n",
        "b=['we',\"m\",\"r\",\"t\",\"y\"]\n",
        "for i in range(0,2) :\n",
        "  a[i]=input(\"Enter your name\")\n",
        "for  i in range (0,2) :\n",
        " b[i]=input(\"Enter ur fav sub\")\n",
        "\n",
        "d={a[0]:b[0],a[1]:b[1]}\n",
        "print(d)\n",
        "\n",
        "\n"
      ],
      "metadata": {
        "id": "qhg_2Z8dbCTX"
      },
      "execution_count": null,
      "outputs": []
    },
    {
      "cell_type": "code",
      "source": [
        "a=int(input(\"enter : \"))\n",
        "b=int(input(\"enter :\"))\n",
        "c=int(input(\"enter :\"))\n",
        "d=int(input(\"enter :\"))\n",
        "if(a>b&a>c):\n",
        "  if(a>d):\n",
        "    print( \" The greatest number is \",a)\n",
        "  else:\n",
        "   print(\"The greatest number is \" ,d)\n",
        "elif(b>c&b>d):\n",
        "  print(\"The greatest number is \", b)\n",
        "else:\n",
        "  print(\"The greatest number is \",c)\n",
        "\n"
      ],
      "metadata": {
        "id": "4-sReelI0DrY"
      },
      "execution_count": null,
      "outputs": []
    },
    {
      "cell_type": "code",
      "source": [
        "a=int(input(\"enter : \"))\n",
        "b=int(input(\"enter :\"))\n",
        "c=int(input(\"enter :\"))\n",
        "if (a+b+c/300 >0.4):\n",
        "  print(\"Ur pass\")\n",
        "else:\n",
        "  print(\"ur fail\")\n",
        "  if(a/100<0.33):\n",
        "    print(\"Failed beacuse of A\\n\")\n",
        "  elif(b/100<0.33):\n",
        "    print(\"Failed beacuse of B\\n\")\n",
        "  else:\n",
        "    print(\"Failed beacuse of C\\n\")\n"
      ],
      "metadata": {
        "id": "S6NuRf0L5h25"
      },
      "execution_count": null,
      "outputs": []
    },
    {
      "cell_type": "code",
      "source": [
        "a=input(\"enter : \")\n",
        "if(len(a)>10):\n",
        "  print(\"The length of the name is greater than 10\\n\")\n",
        "else:\n",
        "  print(\"The length of the name is less than 10\\n\")\n"
      ],
      "metadata": {
        "id": "VGpMb9cz7MBc"
      },
      "execution_count": null,
      "outputs": []
    },
    {
      "cell_type": "code",
      "source": [
        "a=int(input(\"enter : \"))\n",
        "if(a/100>0.9):\n",
        "  print(\"A\")\n",
        "elif(a/100>0.9):\n",
        "  print(\"A\")\n",
        "elif(0.8<a/100<0.9):\n",
        "  print(\"B\")\n",
        "elif(0.7<a/100<0.8):\n",
        "  print(\"C\")\n",
        "elif(0.6<a/100<0.7):\n",
        "  print(\"D\")\n",
        "elif(0.5<a/100<0.6):\n",
        "  print(\"E\")\n",
        "else:\n",
        "  print(\"poor\")\n"
      ],
      "metadata": {
        "id": "UHotJE3u7-Ar"
      },
      "execution_count": null,
      "outputs": []
    },
    {
      "cell_type": "code",
      "source": [
        "a=input(\"enter : \")\n",
        "if 'buy now' in a:\n",
        "  print(\"Spam\")\n",
        "elif 'spam' in a:\n",
        "  print(\"spam\")\n",
        "elif 'Click this' in a:\n",
        "  print(\"spam\")\n",
        "else:\n",
        "  print(\"not spam\")"
      ],
      "metadata": {
        "id": "QH-7LYVa5Ut6"
      },
      "execution_count": null,
      "outputs": []
    },
    {
      "cell_type": "code",
      "source": [
        "ist=[\"Anvi\",\"mittal\",\"ansh\"]\n",
        "a=input(\"enter\",)\n",
        "for i in range(0,3):\n",
        "  if(ist[i] in a):\n",
        "    print(\"Yo\")\n",
        "    break\n",
        "  else:\n",
        "    print(\"nup\")\n",
        "    break"
      ],
      "metadata": {
        "id": "GHp3evQCBziC"
      },
      "execution_count": null,
      "outputs": []
    },
    {
      "cell_type": "code",
      "source": [
        "a=input(\"enter : \")\n",
        "if 'harry' in a:\n",
        "  print(\"tlking about harry\")\n",
        "else:\n",
        "  print(\"not talking about harry\")"
      ],
      "metadata": {
        "id": "sX_JG4sLEjIG"
      },
      "execution_count": null,
      "outputs": []
    },
    {
      "cell_type": "code",
      "source": [
        "iris=sns.load_dataset('iris')\n",
        "iris.head()\n"
      ],
      "metadata": {
        "id": "JqVfuyq89fZv"
      },
      "execution_count": null,
      "outputs": []
    },
    {
      "cell_type": "code",
      "source": [
        "sns.heatmap(iris.corr())"
      ],
      "metadata": {
        "id": "-NZ_h85qK2fd"
      },
      "execution_count": null,
      "outputs": []
    },
    {
      "cell_type": "code",
      "source": [
        "iris.isnull().sum()"
      ],
      "metadata": {
        "id": "KGjW97UYMXHx"
      },
      "execution_count": null,
      "outputs": []
    },
    {
      "cell_type": "code",
      "source": [
        "iris['petal_width'].value_counts()"
      ],
      "metadata": {
        "id": "Bx2EVGS6M3IW"
      },
      "execution_count": null,
      "outputs": []
    },
    {
      "cell_type": "code",
      "source": [
        "sns.countplot(data=iris, y=\"species\")"
      ],
      "metadata": {
        "id": "e6lipTaiNsP4"
      },
      "execution_count": null,
      "outputs": []
    },
    {
      "cell_type": "code",
      "source": [
        "iris['species'].value_counts()"
      ],
      "metadata": {
        "id": "2NdUi7b8RFiu"
      },
      "execution_count": null,
      "outputs": []
    },
    {
      "cell_type": "code",
      "source": [
        "sns.jointplot(x='petal_width',y='sepal_length',data=iris,kind='reg')"
      ],
      "metadata": {
        "id": "2rW5ksWlRJ-j"
      },
      "execution_count": null,
      "outputs": []
    },
    {
      "cell_type": "code",
      "source": [
        "sns.jointplot(x='petal_length',y='sepal_width',data=iris,kind='reg')"
      ],
      "metadata": {
        "id": "qgbvnXMFYRGW"
      },
      "execution_count": null,
      "outputs": []
    },
    {
      "cell_type": "code",
      "source": [
        "sns.distplot(iris['sepal_length'])"
      ],
      "metadata": {
        "id": "PYP7QmU4SF1w"
      },
      "execution_count": null,
      "outputs": []
    },
    {
      "cell_type": "code",
      "source": [
        "sns.distplot(iris['sepal_width'])"
      ],
      "metadata": {
        "id": "nCRKnO53VE0Q"
      },
      "execution_count": null,
      "outputs": []
    },
    {
      "cell_type": "code",
      "source": [
        "sns.pairplot(iris,size=2,hue='species')"
      ],
      "metadata": {
        "id": "-gNFoQGxVJJV"
      },
      "execution_count": null,
      "outputs": []
    },
    {
      "cell_type": "code",
      "source": [
        "sns.barplot(x='species',y='petal_width',data=iris,width=0.5)"
      ],
      "metadata": {
        "id": "-aZTNPlLWvoX"
      },
      "execution_count": null,
      "outputs": []
    },
    {
      "cell_type": "code",
      "source": [
        "sns.barplot(x='species',y='petal_length',data=iris,width=0.5,palette=('r','g','y'))"
      ],
      "metadata": {
        "id": "QW8yv5mLXt7o"
      },
      "execution_count": null,
      "outputs": []
    },
    {
      "cell_type": "code",
      "source": [
        "sns.boxplot(data=iris,x='species',y='sepal_width')"
      ],
      "metadata": {
        "id": "WnEQgwC-YFvS"
      },
      "execution_count": null,
      "outputs": []
    },
    {
      "cell_type": "code",
      "source": [
        "sns.boxplot(data=iris,x='species',y='sepal_width')"
      ],
      "metadata": {
        "id": "8aDsyvqnY9s4"
      },
      "execution_count": null,
      "outputs": []
    },
    {
      "cell_type": "code",
      "source": [
        "sns.boxplot(data=iris,x='species',y='petal_length')"
      ],
      "metadata": {
        "id": "Osg4taxCZB7T"
      },
      "execution_count": null,
      "outputs": []
    },
    {
      "cell_type": "code",
      "source": [
        "iris.info()"
      ],
      "metadata": {
        "id": "WjXq4Bn9YFtY"
      },
      "execution_count": null,
      "outputs": []
    },
    {
      "cell_type": "code",
      "source": [
        "iris.describe()"
      ],
      "metadata": {
        "id": "KioUU-ZUYzlL"
      },
      "execution_count": null,
      "outputs": []
    },
    {
      "cell_type": "code",
      "source": [
        "import pandas as pd\n",
        "import numpy as np\n",
        "import seaborn as sns"
      ],
      "metadata": {
        "id": "8c8eTLgYY5Vs"
      },
      "execution_count": null,
      "outputs": []
    },
    {
      "cell_type": "code",
      "source": [
        "a=np.arange(0,25)\n",
        "a=a.reshape(5,5)\n",
        "a\n"
      ],
      "metadata": {
        "id": "PwigdX9e2AO9"
      },
      "execution_count": null,
      "outputs": []
    },
    {
      "cell_type": "code",
      "source": [
        "df=sns.load_dataset('iris')\n",
        "df\n"
      ],
      "metadata": {
        "id": "qs1amGi036vS"
      },
      "execution_count": null,
      "outputs": []
    },
    {
      "cell_type": "code",
      "source": [
        "\n",
        "df1=pd.DataFrame(data=a,index=('a','b','c','d','e'),columns=('an','er','rt','yu','ui'),dtype=str)\n",
        "df1"
      ],
      "metadata": {
        "id": "kLtCdH4J4xwo"
      },
      "execution_count": null,
      "outputs": []
    },
    {
      "cell_type": "code",
      "source": [
        "df1['an'].value_counts()"
      ],
      "metadata": {
        "id": "ryrb2Hme6v1_"
      },
      "execution_count": null,
      "outputs": []
    },
    {
      "cell_type": "code",
      "source": [
        "df1=pd.DataFrame(data=a,columns=('an','er','rt','yu','ui'),dtype=int)\n",
        "df1.set_index('an')"
      ],
      "metadata": {
        "id": "65ZIJXYL7D7e"
      },
      "execution_count": null,
      "outputs": []
    },
    {
      "cell_type": "code",
      "source": [
        "df['petal_length'].value_counts()"
      ],
      "metadata": {
        "id": "NXr9I49H9rup"
      },
      "execution_count": null,
      "outputs": []
    },
    {
      "cell_type": "code",
      "source": [
        "df['species'].value_counts()"
      ],
      "metadata": {
        "id": "d3tOf11SAp6q"
      },
      "execution_count": null,
      "outputs": []
    },
    {
      "cell_type": "code",
      "source": [
        "df.info()"
      ],
      "metadata": {
        "id": "BscSou4tA3o7"
      },
      "execution_count": null,
      "outputs": []
    },
    {
      "cell_type": "code",
      "source": [
        "df.describe()"
      ],
      "metadata": {
        "id": "LFL22ImnBErL"
      },
      "execution_count": null,
      "outputs": []
    },
    {
      "cell_type": "code",
      "source": [
        "df1=df.drop(columns=['petal_length'])\n",
        "df1"
      ],
      "metadata": {
        "id": "XIdsyda8BLOh"
      },
      "execution_count": null,
      "outputs": []
    },
    {
      "cell_type": "code",
      "source": [
        "df1[df1.sepal_length>6]"
      ],
      "metadata": {
        "id": "p_Z7A6VDBijg"
      },
      "execution_count": null,
      "outputs": []
    },
    {
      "cell_type": "code",
      "source": [
        "def is_float(x):\n",
        "  try:\n",
        "    float(x)\n",
        "  except:\n",
        "    return False\n",
        "  return True\n",
        "is_float(1)\n",
        "\n"
      ],
      "metadata": {
        "id": "jAJPmIPZBszy"
      },
      "execution_count": null,
      "outputs": []
    },
    {
      "cell_type": "code",
      "source": [
        "s=[[1,2],[3,4],[5,6],[7,8]]\n",
        "a=pd.DataFrame(s,columns=(\"1st\",\"2nd\"))\n",
        "a.set_index('1st')\n"
      ],
      "metadata": {
        "id": "3DJRWiMECfs8"
      },
      "execution_count": null,
      "outputs": []
    }
  ]
}